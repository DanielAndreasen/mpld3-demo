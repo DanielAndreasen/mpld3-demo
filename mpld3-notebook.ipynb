{
 "cells": [
  {
   "cell_type": "markdown",
   "metadata": {},
   "source": [
    "# mpld3 notebook demo\n",
    "Programmer's club 28th September 2017"
   ]
  },
  {
   "cell_type": "code",
   "execution_count": null,
   "metadata": {
    "collapsed": true
   },
   "outputs": [],
   "source": [
    "import numpy as np\n",
    "import pandas as pd\n",
    "import matplotlib\n",
    "# matplotlib.use('Agg')\n",
    "\n",
    "import matplotlib.pyplot as plt\n",
    "import mpld3"
   ]
  },
  {
   "cell_type": "code",
   "execution_count": null,
   "metadata": {
    "collapsed": true
   },
   "outputs": [],
   "source": [
    "x1, x2, y1, y2, z = 'teff', 'mass', 'Vmag', 'par', 'logg'\n",
    "\n",
    "df = pd.read_table('stars.csv')\n",
    "columns = df.columns.values\n",
    "df = df.loc[:, list(set([x1, x2, y1, y2, z]))].dropna(axis=0)\n"
   ]
  },
  {
   "cell_type": "markdown",
   "metadata": {},
   "source": [
    "### Standard matplotlib plot"
   ]
  },
  {
   "cell_type": "code",
   "execution_count": null,
   "metadata": {},
   "outputs": [],
   "source": [
    "fig, ax = plt.subplots(2, 2, figsize=(10, 8), sharex='col', sharey='row')\n",
    "points = ax[0, 0].scatter(df[x1], df[y1], c=df[z], alpha=0.6)\n",
    "points = ax[1, 0].scatter(df[x1], df[y2], c=df[z], alpha=0.6)\n",
    "points = ax[0, 1].scatter(df[x2], df[y1], c=df[z], alpha=0.6)\n",
    "points = ax[1, 1].scatter(df[x2], df[y2], c=df[z], alpha=0.6)\n",
    "ax[1, 0].set_xlabel(x1)\n",
    "ax[1, 1].set_xlabel(x2)\n",
    "ax[0, 0].set_ylabel(y1)\n",
    "ax[1, 0].set_ylabel(y2)\n",
    "\n",
    "plt.show()\n"
   ]
  },
  {
   "cell_type": "markdown",
   "metadata": {},
   "source": [
    "### Using mpld3 for display"
   ]
  },
  {
   "cell_type": "code",
   "execution_count": null,
   "metadata": {},
   "outputs": [],
   "source": [
    "\n",
    "fig, ax = plt.subplots(2, 2, figsize=(10, 8), sharex='col', sharey='row')\n",
    "points = ax[0, 0].scatter(df[x1], df[y1], c=df[z], alpha=0.6)\n",
    "points = ax[1, 0].scatter(df[x1], df[y2], c=df[z], alpha=0.6)\n",
    "points = ax[0, 1].scatter(df[x2], df[y1], c=df[z], alpha=0.6)\n",
    "points = ax[1, 1].scatter(df[x2], df[y2], c=df[z], alpha=0.6)\n",
    "ax[1, 0].set_xlabel(x1)\n",
    "ax[1, 1].set_xlabel(x2)\n",
    "ax[0, 0].set_ylabel(y1)\n",
    "ax[1, 0].set_ylabel(y2)\n",
    "\n",
    "mpld3.display()\n"
   ]
  },
  {
   "cell_type": "markdown",
   "metadata": {},
   "source": [
    "# Using Widgets for parameter choice\n",
    "https://ipywidgets.readthedocs.io/en/latest/user_guide.html"
   ]
  },
  {
   "cell_type": "code",
   "execution_count": null,
   "metadata": {},
   "outputs": [],
   "source": [
    "import ipywidgets as widgets"
   ]
  },
  {
   "cell_type": "code",
   "execution_count": null,
   "metadata": {},
   "outputs": [],
   "source": [
    "# With Widgets\n",
    "full_df = pd.read_table('stars.csv')\n",
    "col_names = full_df.columns.values\n",
    "def dropdown(name, initial_value):\n",
    "    return widgets.Dropdown(options=col_names, value=initial_value,\n",
    "                            description=name+':', disabled=False)\n",
    "\n",
    "\n",
    "@widgets.interact(x1=dropdown(\"x1\", \"teff\"),\n",
    "          x2=dropdown(\"x2\", \"mass\"),\n",
    "          y1=dropdown(\"y1\", \"Vmag\"),\n",
    "          y2=dropdown(\"y2\", \"par\"),\n",
    "          z=dropdown(\"z\", \"logg\"))\n",
    "def widget_mpld3(x1, x2, y1, y2, z):\n",
    "    #df = pd.read_table('stars.csv')\n",
    "    #columns = df.columns.values\n",
    "    df = full_df.loc[:, list(set([x1, x2, y1, y2, z]))].dropna(axis=0)\n",
    "\n",
    "    fig, ax = plt.subplots(2, 2, figsize=(10, 8), sharex='col', sharey='row')\n",
    "    points = ax[0, 0].scatter(df[x1], df[y1], c=df[z], alpha=0.6)\n",
    "    points = ax[1, 0].scatter(df[x1], df[y2], c=df[z], alpha=0.6)\n",
    "    points = ax[0, 1].scatter(df[x2], df[y1], c=df[z], alpha=0.6)\n",
    "    points = ax[1, 1].scatter(df[x2], df[y2], c=df[z], alpha=0.6)\n",
    "    ax[1, 0].set_xlabel(x1)\n",
    "    ax[1, 1].set_xlabel(x2)\n",
    "    ax[0, 0].set_ylabel(y1)\n",
    "    ax[1, 0].set_ylabel(y2)\n",
    "\n",
    "    plt.show()\n",
    "    # mpld3.display()\n"
   ]
  }
 ],
 "metadata": {
  "kernelspec": {
   "display_name": "Python 3",
   "language": "python",
   "name": "python3"
  },
  "language_info": {
   "codemirror_mode": {
    "name": "ipython",
    "version": 3
   },
   "file_extension": ".py",
   "mimetype": "text/x-python",
   "name": "python",
   "nbconvert_exporter": "python",
   "pygments_lexer": "ipython3",
   "version": "3.6.1"
  }
 },
 "nbformat": 4,
 "nbformat_minor": 2
}
